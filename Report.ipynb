{
 "cells": [
  {
   "cell_type": "markdown",
   "metadata": {},
   "source": [
    "# EllaBot Report"
   ]
  },
  {
   "cell_type": "markdown",
   "metadata": {},
   "source": [
    "Introduction\n",
    "------------\n",
    "\n",
    "Lorem ipsum dolor sit amet, consectetur adipiscing elit. Nunc sodales porta molestie. Suspendisse a nisi interdum, commodo arcu a, congue ligula. Suspendisse potenti. Duis sollicitudin nulla odio, eu fermentum dui molestie ut. Vestibulum ac odio vehicula, feugiat purus sit amet, congue lectus. Suspendisse ultricies odio suscipit est lobortis, vitae suscipit justo iaculis. Sed ut nunc tellus. Aliquam efficitur dictum eros, id rhoncus turpis placerat at."
   ]
  },
  {
   "cell_type": "code",
   "execution_count": 21,
   "metadata": {
    "collapsed": true
   },
   "outputs": [],
   "source": [
    "%matplotlib inline\n",
    "from worldsim import WorldSim\n",
    "from worldsim.agents import SarsaAgent, State\n",
    "from worldsim.tasks import SearchTask\n",
    "from random import random\n",
    "import matplotlib.pyplot as plt"
   ]
  },
  {
   "cell_type": "markdown",
   "metadata": {},
   "source": [
    "Let's initialize the world, agent, and task."
   ]
  },
  {
   "cell_type": "code",
   "execution_count": 22,
   "metadata": {
    "collapsed": true
   },
   "outputs": [],
   "source": [
    "task = SearchTask(5.0, 5.0)\n",
    "world = WorldSim(10.0, 10.0, 0.0, 0.0, task)\n",
    "agent = SarsaAgent(world, task)\n",
    "world.agent = agent"
   ]
  },
  {
   "cell_type": "markdown",
   "metadata": {},
   "source": [
    "Let's run an experiment, with one hundred episodes.\n",
    "\n",
    "Here's some $\\LaTeX$ because I can."
   ]
  },
  {
   "cell_type": "code",
   "execution_count": 23,
   "metadata": {
    "collapsed": false
   },
   "outputs": [],
   "source": [
    "tasksolved = False\n",
    "episode_rewards = []\n",
    "for i in range(100):\n",
    "    while tasksolved is False:\n",
    "        agent.act()\n",
    "        agent_state = agent.getstate()\n",
    "        tasksolved = world.task.stateisfinal(agent_state)\n",
    "    \n",
    "    episode_rewards.append(agent.episode_reward)\n",
    "    agent.episode_reward = 0\n",
    "    world.reset()\n",
    "    task.target_x = random() * world.width\n",
    "    task.target_y = random() * world.height\n",
    "    tasksolved = False"
   ]
  },
  {
   "cell_type": "markdown",
   "metadata": {},
   "source": [
    "Plotting the results is easy!"
   ]
  },
  {
   "cell_type": "code",
   "execution_count": 24,
   "metadata": {
    "collapsed": false
   },
   "outputs": [
    {
     "data": {
      "text/plain": [
       "[<matplotlib.lines.Line2D at 0x111f0aed0>]"
      ]
     },
     "execution_count": 24,
     "metadata": {},
     "output_type": "execute_result"
    },
    {
     "data": {
      "image/png": "[encoded data removed]",
      "text/plain": [
       "<matplotlib.figure.Figure at 0x111e04490>"
      ]
     },
     "metadata": {},
     "output_type": "display_data"
    }
   ],
   "source": [
    "x = [x for x in range(len(episode_rewards))]\n",
    "y = episode_rewards\n",
    "plt.xlabel('Episodes')\n",
    "plt.ylabel('Total reward')\n",
    "plt.title('Agent learning')\n",
    "plt.plot(x, y, 'b')"
   ]
  },
  {
   "cell_type": "code",
   "execution_count": null,
   "metadata": {
    "collapsed": true
   },
   "outputs": [],
   "source": []
  }
 ],
 "metadata": {
  "kernelspec": {
   "display_name": "Python 2",
   "language": "python",
   "name": "python2"
  },
  "language_info": {
   "codemirror_mode": {
    "name": "ipython",
    "version": 2
   },
   "file_extension": ".py",
   "mimetype": "text/x-python",
   "name": "python",
   "nbconvert_exporter": "python",
   "pygments_lexer": "ipython2",
   "version": "2.7.9"
  }
 },
 "nbformat": 4,
 "nbformat_minor": 0
}
