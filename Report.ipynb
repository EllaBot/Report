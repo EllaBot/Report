{
 "worksheets": [
  {
   "cells": [
    {
     "cell_type": "markdown",
     "metadata": {},
     "source": [
      "# EllaBot Report\n",
      "## Introduction\n",
      "\n",
      "In the search and rescue task, an agent is presented a navigation target which it must reach as quickly as possible. We developed approaches using Sarsa(λ) with value function approximation and policy gradient methods. Neither of these methods alone is suitable for learning in varied environments. We investigated the use of a lifelong learning algorithm with policy gradients, PG-ELLA, to facilitate sharing knowledge across different parameterizations of our environment. The code for our simulation and learning algorithms as well as the source for this report are available on [our GitHub](http://github.com/EllaBot/).\n",
      "\n",
      "\n",
      "### World and Task\n",
      "The Room World is a rectangular space in which the agent and a goal are placed. Different coefficients of ground friction can be set to affect the ability of an agent to move in certain directions. The world can be setup as follows:"
     ]
    },
    {
     "cell_type": "code",
     "execution_count": null,
     "metadata": {},
     "outputs": [],
     "input": [
      "%matplotlib inline\n",
      "from worldsim import WorldSim\n",
      "from worldsim.experiments import experiment_runner,  plot_utils\n",
      "from worldsim.agents import SarsaAgent, State\n",
      "from worldsim.tasks import SearchTask\n",
      "from true_online_td_lambda.optimization import l_bfgs\n",
      "from random import random\n",
      "import matplotlib.pyplot as plt\n",
      "import matplotlib.pylab as pylab\n",
      "pylab.rcParams['figure.figsize'] = 8, 6"
     ],
     "language": "python",
     "prompt_number": 6
    },
    {
     "cell_type": "markdown",
     "metadata": {},
     "source": [
      "Agents can manipulate the world by sending commands. The world then provides them with observations which they may use in the process of deciding their next action. The learning agents we present use states consisting of distance and clockwise angle to goal, and actions consisting of angular and linear velocities on the interval [-1.5, 1.5]. This formulation is consistent with the capabilities of the TurtleBots and SegBots.\n",
      "\n",
      "The reward function used by the agents is given by"
     ]
    },
    {
     "cell_type": "markdown",
     "metadata": {},
     "source": [
      "### Learning\n",
      "\n",
      "We used an $\\epsilon$-greedy policy, selecting actions that maximize the value function (with probability $1 - \\epsilon$), and random actions otherwise.\n",
      "\n",
      "In order to maximize the value function, we needed to find the following, where **S**, **A** correspond to the state and action vectors, respectively.\n",
      "\n",
      "$$\\underset{\\textbf{A}} {\\mathrm{argmax}} ~\\hat{V}(\\textbf{S}, \\textbf{A}) = \\underset{\\textbf{A}} {\\mathrm{argmax}} ~\\theta^{\\top}\\phi(\\textbf{S}, \\textbf{A})$$\n",
      "\n",
      "The solution requires the gradient of the value function, $\\hat{V}$, which can be found by differentiating $\\phi$ w.r.t **A**:\n",
      "\n",
      "$$\\phi(\\textbf{S}, \\textbf{A}) = \\cos(\\pi \\textbf{c} \\cdot (\\textbf{S}, \\textbf{A}))$$\n",
      "\n",
      "$$\\frac{\\partial \\ \\phi(\\textbf{S}, \\textbf{A})}{\\partial \\ \\textbf{A}} = -\\pi\\textbf{c}\\sin(\\pi \\textbf{c} \\cdot (\\textbf{S}, \\textbf{A}))$$\n",
      "\n",
      "So:\n",
      "\n",
      "$$\\nabla_{\\textbf{A}}\\hat{V}(\\textbf{S}, \\textbf{A}) = -\\theta^{\\top}\\pi\\textbf{c}\\sin(\\pi \\textbf{c} \\cdot (\\textbf{S}, \\textbf{A}))$$\n",
      "\n",
      "Next, we used a convex optimization method, L-BFGS, to maximize $\\hat{V}$. This is a quasi-Newton method which uses hessian approximations to guide convergence.\n",
      "\n",
      "Now, let's run an experiment with 150 episodes to see if the agent learns:"
     ]
    },
    {
     "cell_type": "code",
     "execution_count": null,
     "metadata": {},
     "outputs": [
      {
       "output_type": "display_data",
       "png": "[encoded data removed]",
       "text": [
        "<matplotlib.figure.Figure at 0x104a76a90>"
       ],
       "metadata": {}
      }
     ],
     "input": [
      "world = WorldSim(10.0, 10.0)  # 10m x 10m world\n",
      "task = SearchTask(5.0, 5.0)\n",
      "agent = SarsaAgent(world, task)\n",
      "rewards = experiment_runner.run_experiment(agent, world, episodes=150, maximize=l_bfgs.maximize)\n",
      "\n",
      "# Plot results\n",
      "plot_utils.plot_rewards(rewards)"
     ],
     "language": "python",
     "prompt_number": 8
    },
    {
     "cell_type": "markdown",
     "metadata": {},
     "source": [
      "The eratic performance of the agent seems to indicate that it is not learning. Upon further investigation, we found that the convex optimizer was getting stuck at local maxima. This, as we discovered, was because the value function, based on the Fourier basis, is not convex. The Fourier basis paper talks about tasks that have continuous states, but *discrete* actions, making convexity a non-issue. However, our task has both continuous states and actions.\n",
      "\n",
      "We used two approaches to solve this problem. First, we used a naïve brute force approach, exhaustively searching for the maximum by plugging linear and angular velocities into the value function. This solution is imprecise and very slow. In our second approach, we combined a brute force search with convex optimization. Essentially, we found the rough maximum via brute force, and then used that rough maximum as the initial guess for L-BFGS. L-BFGS then finds the nearest maximum, which is likely to be the global maximum. This alleviates some of the issues with normal brute force searching: it is faster since the increments need not be very small (since we just want a rough maximum), and it is more accurate since L-BFGS is finding the global maximum at the end.\n",
      "\n",
      "The experiment again with our second optimization strategy:"
     ]
    },
    {
     "cell_type": "code",
     "execution_count": null,
     "metadata": {},
     "outputs": [],
     "input": [
      "world = WorldSim(10.0, 10.0)  # 10m x 10m world\n",
      "task = SearchTask(5.0, 5.0)  # Goal placed at (5,5)\n",
      "agent = SarsaAgent(world, task)\n",
      "rewards = experiment_runner.run_experiment(agent, world, episodes=150)\n",
      "\n",
      "# Plot results\n",
      "plot_utils.plot_rewards(rewards)"
     ],
     "language": "python"
    },
    {
     "cell_type": "markdown",
     "metadata": {},
     "source": [
      "The quick uptick in the total reward per episode shows that the agent is learning. As further evidence, distance per step, a measurement which indicates the efficiency of the agents movement, also displays a positive trend. However, even this graph, which is averaged over the learning of five agents, has significant variance. This is largely attributable to the agent's random initial angle to the goal, prevents it from reaching the theoretical cap for our simulation of 0.15.\n",
      "\n",
      "<img src=\"https://raw.githubusercontent.com/EllaBot/Report/master/images/distanceperstepsplot.png\" width=\"600\">\n",
      "\n",
      "<img src=\"https://raw.githubusercontent.com/EllaBot/Report/master/images/learned_path.png\" width=\"600\">\n",
      "\n",
      "While our second approach is superior to a naïve brute force search, there are still better methods to use. For instance, basin hopping [3], a Monte Carlo method used in many physics and chemistry problems, which finds the global maximum by randomly perturbing coordinates, finding the local maximum, and accepting or rejecting new coordinates based on the Metropolis criterion. This method would be faster than our second approach. Furthermore, the independence of value function calculations presents an opportunity for massive parallelization via the GPU."
     ]
    },
    {
     "cell_type": "markdown",
     "metadata": {},
     "source": [
      "## Policy Gradient with Parameter Exploration\n",
      "\n",
      "The high complexity of approximating and maximizing a value function in our simple, four-feature case belies the futility of value function approaches for higher dimensional tasks. Policy gradient methods have demonstrated promise for complex tasks, so they presented a natural next option for a solution to the search and rescue task. Instead of searching the space of all possible value functions, which may be exponential in the number of features, policy gradient methods search in policy space, modifying parameterized policies and observing the change in the reward.\n",
      "\n",
      "Our first policy gradient agent used Policy Gradient with Parameter-based Exploration (PGPE), which, in a slight simplification of general PG methods, searches directly in model parameter space. An agent uses a controller with a Gaussian policy, picking actions from normals with means given by linear combinations of the state features and the learned parameters. The variances of the distributions are fixed.\n",
      "\n",
      "$\\pi _{\\theta} (s, \\cdot) \\sim\\ \\mathcal{N}( \\theta^\\top\\phi(s), \\sigma^2)$\n",
      "\n",
      "Two pertubations of the parameters are produced, shifting the parameters slightly up and slightly down. Two rollouts are conducted with policies determined by these parameters, and the resulting rewards are used to estimate the gradient of the agent's expected return. The learned theta is updated with an $\\alpha$ step size, and the process is repeated."
     ]
    },
    {
     "cell_type": "code",
     "execution_count": null,
     "metadata": {},
     "outputs": [],
     "input": [
      "world = WorldSim(10.0, 10.0)  # 10m x 10m world\n",
      "task = SearchTask(5.0, 5.0)  # Goal placed at (5,5)\n",
      "agent = PGPEAgent(world, task)\n",
      "rewards = experiment_runner.run_experiment(agent, world, episodes=150)\n",
      "\n",
      "# Plot results\n",
      "plot_utils.plot_rewards(rewards)"
     ],
     "language": "python"
    },
    {
     "cell_type": "markdown",
     "metadata": {},
     "source": [
      ""
     ]
    },
    {
     "cell_type": "markdown",
     "metadata": {},
     "source": [
      "## Actor-Critic Policy Gradient"
     ]
    },
    {
     "cell_type": "markdown",
     "metadata": {},
     "source": [
      "[1] Seijen, Harm V., and Rich Sutton. \"True Online TD (lambda).\" Proceedings of the 31st International Conference on Machine Learning (ICML-14). 2014.\n",
      "\n",
      "[2] Konidaris, George. \"Value function approximation in reinforcement learning using the Fourier basis.\" (2008).\n",
      "\n",
      "[3] D.J. Wales and J.P.K. Doye, “Global optimization by basin-hopping and the lowest energy structures of Lennard-Jones clusters containing up to 110 atoms,” J. Phys. Chem. A 101, 5111 (1997). doi:10.1021/jp970984n"
     ]
    },
    {
     "cell_type": "code",
     "execution_count": null,
     "metadata": {},
     "outputs": [],
     "input": [
      ""
     ],
     "language": "python"
    }
   ]
  }
 ],
 "cells": [],
 "metadata": {},
 "nbformat": 3,
 "nbformat_minor": 0
}