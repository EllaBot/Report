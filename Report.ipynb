{
 "cells": [
  {
   "cell_type": "markdown",
   "metadata": {},
   "source": [
    "# EllaBot Report"
   ]
  },
  {
   "cell_type": "markdown",
   "metadata": {},
   "source": [
    "Introduction\n",
    "------\n",
    "\n",
    "In a search and rescue problem, an agent is presented a navigation target which it must reach as quickly as possible. In our formulation of the problem, the agent is only allowed to manipulate its linear and angular velocities, which is consistent with the capabilities of the TurtleBots and SegBots. In order to solve this problem, we used Sarsa($\\lambda$) with value function approximation and policy gradient methods. We present a comparison of these two methods. However, these methods are inflexible in the face of changing environments. We investigated the use of a lifelong learning algorithm with policy gradients, PG-ELLA."
   ]
  },
  {
   "cell_type": "markdown",
   "metadata": {},
   "source": [
    "The code for our world and learning algorithms is available on [our GitHub](http://github.com/EllaBot/). First, the world can be setup as follows:"
   ]
  },
  {
   "cell_type": "code",
   "execution_count": 4,
   "metadata": {
    "collapsed": true
   },
   "outputs": [],
   "source": [
    "%matplotlib inline\n",
    "from worldsim import WorldSim\n",
    "from worldsim.agents import SarsaAgent, State\n",
    "from worldsim.tasks import SearchTask\n",
    "from random import random\n",
    "import matplotlib.pyplot as plt"
   ]
  },
  {
   "cell_type": "code",
   "execution_count": 5,
   "metadata": {
    "collapsed": true
   },
   "outputs": [],
   "source": [
    "task = SearchTask(5.0, 5.0)\n",
    "world = WorldSim(10.0, 10.0, 0.0, 0.0, task)\n",
    "agent = SarsaAgent(world, task)\n",
    "world.agent = agent"
   ]
  },
  {
   "cell_type": "markdown",
   "metadata": {},
   "source": [
    "Sarsa($\\lambda$)\n",
    "------------\n",
    "\n",
    "We used True Online TD($\\lambda$) for our Sarsa() implementation[1]. It has a conceptually simple forward view that can be implemented online inexpensively. Because our problem has continous state and action spaces, we must use a function approximator. We decided to use the Fourier basis[2]."
   ]
  },
  {
   "cell_type": "markdown",
   "metadata": {},
   "source": [
    "Let's run an experiment, with one hundred episodes.\n",
    "\n",
    "Here's some $\\LaTeX$ because I can."
   ]
  },
  {
   "cell_type": "code",
   "execution_count": 6,
   "metadata": {
    "collapsed": false
   },
   "outputs": [],
   "source": [
    "tasksolved = False\n",
    "episode_rewards = []\n",
    "for i in range(2):\n",
    "    while tasksolved is False:\n",
    "        agent.act()\n",
    "        agent_state = agent.getstate()\n",
    "        tasksolved = world.task.stateisfinal(agent_state)\n",
    "    \n",
    "    episode_rewards.append(agent.episode_reward)\n",
    "    agent.episode_reward = 0\n",
    "    world.reset()\n",
    "    task.target_x = random() * world.width\n",
    "    task.target_y = random() * world.height\n",
    "    tasksolved = False"
   ]
  },
  {
   "cell_type": "markdown",
   "metadata": {},
   "source": [
    "Plotting the results is easy!"
   ]
  },
  {
   "cell_type": "code",
   "execution_count": 7,
   "metadata": {
    "collapsed": false
   },
   "outputs": [
    {
     "data": {
      "text/plain": [
       "[<matplotlib.lines.Line2D at 0x10f8a8e50>]"
      ]
     },
     "execution_count": 7,
     "metadata": {},
     "output_type": "execute_result"
    },
    {
     "data": {
      "image/png": "[encoded data removed]",
      "text/plain": [
       "<matplotlib.figure.Figure at 0x10f8a8e10>"
      ]
     },
     "metadata": {},
     "output_type": "display_data"
    }
   ],
   "source": [
    "x = [x for x in range(len(episode_rewards))]\n",
    "y = episode_rewards\n",
    "plt.xlabel('Episodes')\n",
    "plt.ylabel('Total reward')\n",
    "plt.title('Agent learning')\n",
    "plt.plot(x, y, 'b')"
   ]
  },
  {
   "cell_type": "code",
   "execution_count": null,
   "metadata": {
    "collapsed": true
   },
   "outputs": [],
   "source": []
  }
 ],
 "metadata": {
  "kernelspec": {
   "display_name": "Python 2",
   "language": "python",
   "name": "python2"
  },
  "language_info": {
   "codemirror_mode": {
    "name": "ipython",
    "version": 2
   },
   "file_extension": ".py",
   "mimetype": "text/x-python",
   "name": "python",
   "nbconvert_exporter": "python",
   "pygments_lexer": "ipython2",
   "version": "2.7.9"
  }
 },
 "nbformat": 4,
 "nbformat_minor": 0
}
